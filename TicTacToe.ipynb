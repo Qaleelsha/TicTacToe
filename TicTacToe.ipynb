{
 "cells": [
  {
   "cell_type": "code",
   "execution_count": 2,
   "id": "2609dd28-b63a-43b6-b0b3-e72519b56eb5",
   "metadata": {},
   "outputs": [],
   "source": [
    "from IPython.display import clear_output\n",
    "def display_board(board):\n",
    "    clear_output()\n",
    "    print('   |   |')\n",
    "    print(' ' + board[7] + ' | ' + board[8] + ' | ' + board[9])\n",
    "    print('   |   |')\n",
    "    print('-----------')\n",
    "    print('   |   |')\n",
    "    print(' ' + board[4] + ' | ' + board[5] + ' | ' + board[6])\n",
    "    print('   |   |')\n",
    "    print('-----------')\n",
    "    print('   |   |')\n",
    "    print(' ' + board[1] + ' | ' + board[2] + ' | ' + board[3])\n",
    "    print('   |   |')"
   ]
  },
  {
   "cell_type": "code",
   "execution_count": 4,
   "id": "58db8ff3-6401-4848-8139-eaddc2b37997",
   "metadata": {},
   "outputs": [
    {
     "name": "stdout",
     "output_type": "stream",
     "text": [
      "   |   |\n",
      " X | O | X\n",
      "   |   |\n",
      "-----------\n",
      "   |   |\n",
      " O | X | O\n",
      "   |   |\n",
      "-----------\n",
      "   |   |\n",
      " X | O | X\n",
      "   |   |\n"
     ]
    }
   ],
   "source": [
    "test_board = ['#','X','O','X','O','X','O','X','O','X']\n",
    "display_board(test_board)\n",
    "display_board(test_board)"
   ]
  },
  {
   "cell_type": "code",
   "execution_count": 6,
   "id": "d7ffeef4-1cb5-4644-8be9-13d9fc1d7889",
   "metadata": {},
   "outputs": [],
   "source": [
    "def player_input():\n",
    "    '''\n",
    "    OUTPUT = (Player 1 marker, Player 2 marker)\n",
    "    '''\n",
    "    marker = ''\n",
    "    while marker != 'X' and marker != 'O':\n",
    "        marker = input('Player1: choose X or O: ').upper()\n",
    "        if marker == 'X':\n",
    "            return('X','O')\n",
    "        else:\n",
    "            return('O','X')"
   ]
  },
  {
   "cell_type": "code",
   "execution_count": 12,
   "id": "7ef251fc-750b-4fc3-b3a5-70ced6f2033e",
   "metadata": {},
   "outputs": [
    {
     "name": "stdin",
     "output_type": "stream",
     "text": [
      "Player1: choose X or O:  O\n"
     ]
    }
   ],
   "source": [
    "player1_marker , player2_marker = player_input()"
   ]
  },
  {
   "cell_type": "code",
   "execution_count": 14,
   "id": "cf27cf4a-2383-4033-a01f-ed83a70b0db1",
   "metadata": {},
   "outputs": [
    {
     "data": {
      "text/plain": [
       "'X'"
      ]
     },
     "execution_count": 14,
     "metadata": {},
     "output_type": "execute_result"
    }
   ],
   "source": [
    "player2_marker"
   ]
  },
  {
   "cell_type": "code",
   "execution_count": 16,
   "id": "5d181618-6592-43fc-9fc6-133d6f02f2d5",
   "metadata": {},
   "outputs": [],
   "source": [
    "def place_marker(board, marker, position):\n",
    "    board[position] = marker"
   ]
  },
  {
   "cell_type": "code",
   "execution_count": 18,
   "id": "8c273fa2-d72f-48b2-a772-4b96bc28eb4e",
   "metadata": {},
   "outputs": [
    {
     "data": {
      "text/plain": [
       "['#', 'X', 'O', 'X', 'O', 'X', 'O', 'X', 'O', 'X']"
      ]
     },
     "execution_count": 18,
     "metadata": {},
     "output_type": "execute_result"
    }
   ],
   "source": [
    "test_board"
   ]
  },
  {
   "cell_type": "code",
   "execution_count": 20,
   "id": "8d5ca6ee-35f1-45cb-b136-fdad7325b52e",
   "metadata": {},
   "outputs": [
    {
     "name": "stdout",
     "output_type": "stream",
     "text": [
      "   |   |\n",
      " X | $ | X\n",
      "   |   |\n",
      "-----------\n",
      "   |   |\n",
      " O | X | O\n",
      "   |   |\n",
      "-----------\n",
      "   |   |\n",
      " X | O | X\n",
      "   |   |\n"
     ]
    }
   ],
   "source": [
    "place_marker(test_board,'$',8)\n",
    "display_board(test_board)"
   ]
  },
  {
   "cell_type": "code",
   "execution_count": 22,
   "id": "027392d9-9200-4c2c-abb1-b409ac10c179",
   "metadata": {},
   "outputs": [],
   "source": [
    "def win_check(board, mark):\n",
    "    #Win TicTacToe\n",
    "    return((board[7] == mark and board[8] == mark and board[9] == mark) or # checking across the top\n",
    "    (board[4] == mark and board[5] == mark and board[6] == mark) or  #acroos the middle\n",
    "    (board[1] == mark and board[2] == mark and board[3] == mark) or  #acroos the bottom\n",
    "    (board[7] == mark and board[4] == mark and board[1] == mark) or  #acroos the middle\n",
    "    (board[8] == mark and board[5] == mark and board[2] == mark) or  #across the middle\n",
    "    (board[9] == mark and board[6] == mark and board[3] == mark) or  #acroos the right side\n",
    "    (board[7] == mark and board[5] == mark and board[3] == mark) or  #diagonal\n",
    "    (board[9] == mark and board[5] == mark and board[1] == mark)) #diagonal"
   ]
  },
  {
   "cell_type": "code",
   "execution_count": 24,
   "id": "fe0c7d06-f286-4a19-8974-c4837b02545d",
   "metadata": {},
   "outputs": [
    {
     "name": "stdout",
     "output_type": "stream",
     "text": [
      "   |   |\n",
      " X | $ | X\n",
      "   |   |\n",
      "-----------\n",
      "   |   |\n",
      " O | X | O\n",
      "   |   |\n",
      "-----------\n",
      "   |   |\n",
      " X | O | X\n",
      "   |   |\n"
     ]
    },
    {
     "data": {
      "text/plain": [
       "True"
      ]
     },
     "execution_count": 24,
     "metadata": {},
     "output_type": "execute_result"
    }
   ],
   "source": [
    "display_board(test_board)\n",
    "win_check(test_board,'X')"
   ]
  },
  {
   "cell_type": "code",
   "execution_count": 26,
   "id": "77a4f8a5-1fac-4ff7-bbf9-d62f8ede9483",
   "metadata": {},
   "outputs": [],
   "source": [
    "import random \n",
    "def choose_first():\n",
    "    flip = random.randint(0,1)\n",
    "    \n",
    "    if flip == 0:\n",
    "        return 'Player 1'\n",
    "    else:\n",
    "        return 'player 2'"
   ]
  },
  {
   "cell_type": "code",
   "execution_count": 28,
   "id": "9a2e62ed-ee51-46da-ad44-65a90842d32d",
   "metadata": {},
   "outputs": [],
   "source": [
    "def space_check(board, position):\n",
    "    return board[position] == ' '"
   ]
  },
  {
   "cell_type": "code",
   "execution_count": 30,
   "id": "7da9c328-d71a-4ccf-827a-ac2c64528632",
   "metadata": {},
   "outputs": [],
   "source": [
    "def full_board_check(board):\n",
    "    \n",
    "    for i in range(1,10):\n",
    "        if space_check(board,i):\n",
    "            return False\n",
    "        else:\n",
    "            return True\n",
    "#Board is full, if we return True"
   ]
  },
  {
   "cell_type": "code",
   "execution_count": 32,
   "id": "d97867b3-1877-42da-a456-e3a46bb23a17",
   "metadata": {},
   "outputs": [],
   "source": [
    "def player_choise(board):\n",
    "    position = 0\n",
    "    while position not in [1,2,3,4,5,6,7,8,9] or not space_check(board, position):\n",
    "        position = int(input(\"Choose a position (1-9): \"))\n",
    "    return position"
   ]
  },
  {
   "cell_type": "code",
   "execution_count": 34,
   "id": "54d3da1f-0269-46e3-8d96-9d8f324adf12",
   "metadata": {},
   "outputs": [],
   "source": [
    "def replay():\n",
    "    choice = input(\"Play again? Enter Yes or No\")\n",
    "    return choice == \"Yes\""
   ]
  },
  {
   "cell_type": "code",
   "execution_count": null,
   "id": "f3d3280c-b070-4895-aafe-743694bad7a8",
   "metadata": {},
   "outputs": [
    {
     "name": "stdout",
     "output_type": "stream",
     "text": [
      "   |   |\n",
      " X | O |  \n",
      "   |   |\n",
      "-----------\n",
      "   |   |\n",
      " O | X | O\n",
      "   |   |\n",
      "-----------\n",
      "   |   |\n",
      " X | X | O\n",
      "   |   |\n",
      "Tie Game!\n"
     ]
    }
   ],
   "source": [
    "#While loop to keep running the game\n",
    "print(\"Welcome To Tic Tac Toe\")\n",
    "\n",
    "while True:\n",
    "    \n",
    "    #Play The Game\n",
    "\n",
    "    #Set Everything up(Board, Whose first, choose Markers X,O)\n",
    "    the_board = [' ']*10\n",
    "    player1_marker, player2_marker = player_input()\n",
    "\n",
    "    turn = choose_first()\n",
    "    print(turn + ' Will go first')\n",
    "\n",
    "    play_game = input(\"Are You Ready To Play, Yes or NO?\")\n",
    "\n",
    "    if play_game == \"Yes\":\n",
    "        game_on = True\n",
    "    else:\n",
    "        game_on = False\n",
    "\n",
    "    #Game Play\n",
    "    while game_on:\n",
    "        \n",
    "        if turn == 'Player 1':\n",
    "            \n",
    "            #Show the Board\n",
    "            display_board(the_board)\n",
    "            #Choose a position\n",
    "            position = player_choise(the_board)\n",
    "            #plase the marker on the position\n",
    "            place_marker(the_board, player1_marker, position)\n",
    "\n",
    "            #Check If they Won\n",
    "            if win_check(the_board, player1_marker):\n",
    "                display_board(the_board)\n",
    "                print(\"Player 1 has Won!\")\n",
    "                game_on = False\n",
    "            else:\n",
    "                if full_board_check(the_board):\n",
    "                    display_board(the_board)\n",
    "                    print(\"Tie Game!\")\n",
    "                    game_on = False\n",
    "                else:\n",
    "                    turn = 'Player 2'\n",
    "                    \n",
    "        else:\n",
    "            #Show the Board\n",
    "            display_board(the_board)\n",
    "            #Choose a position\n",
    "            position = player_choise(the_board)\n",
    "            #plase the marker on the position\n",
    "            place_marker(the_board, player2_marker, position)\n",
    "\n",
    "            #Check If they Won\n",
    "            if win_check(the_board, player2_marker):\n",
    "                display_board(the_board)\n",
    "                print(\"Player 2 has Won!\")\n",
    "                game_on = False\n",
    "            else:\n",
    "                if full_board_check(the_board):\n",
    "                    display_board(the_board)\n",
    "                    print(\"Tie Game!\")\n",
    "                    game_on = False\n",
    "                else:\n",
    "                    turn = 'Player 1'\n",
    "                    \n",
    "    if not replay():\n",
    "        break\n",
    "    #Breakout the while loop on replay"
   ]
  },
  {
   "cell_type": "code",
   "execution_count": null,
   "id": "e3fa80a4-3876-44bb-bdd0-a5311a3e392f",
   "metadata": {},
   "outputs": [],
   "source": []
  }
 ],
 "metadata": {
  "kernelspec": {
   "display_name": "Python 3 (ipykernel)",
   "language": "python",
   "name": "python3"
  },
  "language_info": {
   "codemirror_mode": {
    "name": "ipython",
    "version": 3
   },
   "file_extension": ".py",
   "mimetype": "text/x-python",
   "name": "python",
   "nbconvert_exporter": "python",
   "pygments_lexer": "ipython3",
   "version": "3.12.4"
  }
 },
 "nbformat": 4,
 "nbformat_minor": 5
}
